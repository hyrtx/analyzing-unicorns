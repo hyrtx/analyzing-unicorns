{
 "cells": [
  {
   "cell_type": "markdown",
   "metadata": {},
   "source": [
    "### **Market Intelligence: Analyzing Unicorns and Investment Opportunities**"
   ]
  },
  {
   "cell_type": "markdown",
   "metadata": {},
   "source": [
    "#### **Table Of Contents**"
   ]
  },
  {
   "cell_type": "markdown",
   "metadata": {},
   "source": [
    "1. [Business Understanding](#business-understanding)\n",
    "    * [Project Background](#project-background)\n",
    "2. Data Understanding"
   ]
  },
  {
   "cell_type": "markdown",
   "metadata": {},
   "source": [
    "#### **Business Understanding**"
   ]
  },
  {
   "cell_type": "markdown",
   "metadata": {},
   "source": [
    "##### Project Background"
   ]
  },
  {
   "cell_type": "markdown",
   "metadata": {},
   "source": [
    "**NovaCapital Ventures** is a Venture Capital firm with 15 years of experience, focused on identifying and investing in innovative startups in the areas of technology, fintech and health. The company manages a diversified portfolio, with a strong presence in Latin America, and is looking to expand its investments in Brazil.\n",
    "\n",
    "**NovaCapital's** business model involves initial funding rounds, with the aim of obtaining significant returns at advanced stages of growth, through IPOs or acquisitions.\n",
    "\n",
    "They want us to analyze trends and provide industry insights and recommendations for future investments"
   ]
  },
  {
   "cell_type": "markdown",
   "metadata": {},
   "source": [
    "#### **Data Understanding**"
   ]
  },
  {
   "cell_type": "markdown",
   "metadata": {},
   "source": [
    "##### Data Structure"
   ]
  },
  {
   "cell_type": "markdown",
   "metadata": {},
   "source": [
    "To do the analysis, they provide us with a csv file. The description of the data is as follows:\n",
    "\n",
    "| Field            | Description                                                                              |\n",
    "|------------------|------------------------------------------------------------------------------------------|\n",
    "| Company          | Company Name                                                                             |\n",
    "| Valuation\t       | Company valuation in billions (B) of dollars                                             |\n",
    "| Date Joined      | The date in which the company reached $1 billion in valuation                            |\n",
    "| Industry         | Company industry                                                                         |\n",
    "| City             | City the company was founded in                                                          |\n",
    "| Country\t       | Country the company was founded in                                                       |\n",
    "| Continent\t       | Continent the company was founded in                                                     |\n",
    "| Year Founded     | Year the company was founded                                                             |\n",
    "| Funding\t       | Total amount raised across all funding rounds in billions (B) or millions (M) of dollars |\n",
    "| Select Investors | Top 4 investing firms or individual investors (some have less than 4)                    |\n"
   ]
  }
 ],
 "metadata": {
  "kernelspec": {
   "display_name": "base",
   "language": "python",
   "name": "python3"
  },
  "language_info": {
   "codemirror_mode": {
    "name": "ipython",
    "version": 3
   },
   "file_extension": ".py",
   "mimetype": "text/x-python",
   "name": "python",
   "nbconvert_exporter": "python",
   "pygments_lexer": "ipython3",
   "version": "3.11.5"
  }
 },
 "nbformat": 4,
 "nbformat_minor": 2
}
