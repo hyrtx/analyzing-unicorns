{
 "cells": [
  {
   "cell_type": "markdown",
   "metadata": {},
   "source": [
    "# **Market Intelligence: Analyzing Unicorns and Investment Opportunities**"
   ]
  },
  {
   "cell_type": "markdown",
   "metadata": {},
   "source": [
    "## **Table Of Contents**"
   ]
  },
  {
   "cell_type": "markdown",
   "metadata": {},
   "source": [
    "1. [Business Understanding](#business-understanding)\n",
    "    * [Project Background](#project-background)\n",
    "    * [Assumptions](#assumptions)\n",
    "2. [Data Understanding](#data-understanding)\n",
    "    * [Analysis Preparation](#analysis-preparation)\n",
    "    * [Data Structure](#data-structure)\n",
    "    * [Data Loading And Overview](#data-loading-and-overview)\n",
    "    * [Data Cleaning](#data-cleaning)\n",
    "        * [Treating Missing Data](#treating-missing-data)\n",
    "        * [Case-Sensitive Standardization](#case-sensitive-standardization)\n",
    "        * [Checking for Duplicates](#checking-for-duplicates)\n"
   ]
  },
  {
   "cell_type": "markdown",
   "metadata": {},
   "source": [
    "## **Business Understanding**"
   ]
  },
  {
   "cell_type": "markdown",
   "metadata": {},
   "source": [
    "### Project Background"
   ]
  },
  {
   "cell_type": "markdown",
   "metadata": {},
   "source": [
    "**NovaCapital Ventures** is a Venture Capital firm with 15 years of experience, focused on identifying and investing in innovative startups in the areas of technology, fintech and health. The company manages a diversified portfolio, with a strong presence in Latin America, and is looking to expand its investments in Brazil.\n",
    "\n",
    "**NovaCapital's** business model involves initial funding rounds, with the aim of obtaining significant returns at advanced stages of growth, through IPOs or acquisitions.\n",
    "\n",
    "They want us to analyze trends and provide industry insights and recommendations for future investments"
   ]
  },
  {
   "cell_type": "markdown",
   "metadata": {},
   "source": [
    "### Assumptions"
   ]
  },
  {
   "cell_type": "markdown",
   "metadata": {},
   "source": [
    "1. There are no duplicated companies in the dataset. However, there are companies with the same name.\n",
    "2. The LinkSure Network investors are not in the dataset. Investor information was acquired externally and inserted into the dataset. "
   ]
  },
  {
   "cell_type": "markdown",
   "metadata": {},
   "source": [
    "## **Data Understanding**"
   ]
  },
  {
   "cell_type": "markdown",
   "metadata": {},
   "source": [
    "### Analysis Preparation"
   ]
  },
  {
   "cell_type": "markdown",
   "metadata": {},
   "source": [
    "Here we'll import all the libraries we'll use in the analysis."
   ]
  },
  {
   "cell_type": "code",
   "execution_count": 79,
   "metadata": {},
   "outputs": [],
   "source": [
    "import pandas as pd"
   ]
  },
  {
   "cell_type": "markdown",
   "metadata": {},
   "source": [
    "### Data Structure"
   ]
  },
  {
   "cell_type": "markdown",
   "metadata": {},
   "source": [
    "To make the analysis, they provide us with a csv file. The description of the data is as follows:\n",
    "\n",
    "| Field            | Description                                                                              |\n",
    "|------------------|------------------------------------------------------------------------------------------|\n",
    "| Company          | Company Name                                                                             |\n",
    "| Valuation\t       | Company valuation in billions (B) of dollars                                             |\n",
    "| Date Joined      | The date in which the company reached $1 billion in valuation                            |\n",
    "| Industry         | Company industry                                                                         |\n",
    "| City             | City the company was founded in                                                          |\n",
    "| Country\t       | Country the company was founded in                                                       |\n",
    "| Continent\t       | Continent the company was founded in                                                     |\n",
    "| Year Founded     | Year the company was founded                                                             |\n",
    "| Funding\t       | Total amount raised across all funding rounds in billions (B) or millions (M) of dollars |\n",
    "| Select Investors | Top 4 investing firms or individual investors (some have less than 4)                    |\n"
   ]
  },
  {
   "cell_type": "markdown",
   "metadata": {},
   "source": [
    "### Data Loading And Overview\n",
    "\n",
    "Let's load the dataset and get a brief overview of the data."
   ]
  },
  {
   "cell_type": "code",
   "execution_count": 28,
   "metadata": {},
   "outputs": [],
   "source": [
    "# Loading the dataset\n",
    "df: pd.DataFrame = pd.read_csv(\"data/Unicorn_Companies.csv\")"
   ]
  },
  {
   "cell_type": "code",
   "execution_count": 77,
   "metadata": {},
   "outputs": [
    {
     "name": "stdout",
     "output_type": "stream",
     "text": [
      "Number of columns: 10\n",
      "Number of rows: 1074\n"
     ]
    }
   ],
   "source": [
    "# Dataset dimensions\n",
    "print(f\"Number of columns: {df.shape[1]}\")\n",
    "print(f\"Number of rows: {df.shape[0]}\")"
   ]
  },
  {
   "cell_type": "code",
   "execution_count": 70,
   "metadata": {},
   "outputs": [
    {
     "data": {
      "text/html": [
       "<div>\n",
       "<style scoped>\n",
       "    .dataframe tbody tr th:only-of-type {\n",
       "        vertical-align: middle;\n",
       "    }\n",
       "\n",
       "    .dataframe tbody tr th {\n",
       "        vertical-align: top;\n",
       "    }\n",
       "\n",
       "    .dataframe thead th {\n",
       "        text-align: right;\n",
       "    }\n",
       "</style>\n",
       "<table border=\"1\" class=\"dataframe\">\n",
       "  <thead>\n",
       "    <tr style=\"text-align: right;\">\n",
       "      <th></th>\n",
       "      <th>Company</th>\n",
       "      <th>Valuation</th>\n",
       "      <th>Date Joined</th>\n",
       "      <th>Industry</th>\n",
       "      <th>City</th>\n",
       "      <th>Country</th>\n",
       "      <th>Continent</th>\n",
       "      <th>Year Founded</th>\n",
       "      <th>Funding</th>\n",
       "      <th>Select Investors</th>\n",
       "    </tr>\n",
       "  </thead>\n",
       "  <tbody>\n",
       "    <tr>\n",
       "      <th>0</th>\n",
       "      <td>Bytedance</td>\n",
       "      <td>$180B</td>\n",
       "      <td>2017-04-07</td>\n",
       "      <td>Artificial intelligence</td>\n",
       "      <td>Beijing</td>\n",
       "      <td>China</td>\n",
       "      <td>Asia</td>\n",
       "      <td>2012</td>\n",
       "      <td>$8B</td>\n",
       "      <td>Sequoia Capital China, SIG Asia Investments, S...</td>\n",
       "    </tr>\n",
       "    <tr>\n",
       "      <th>1</th>\n",
       "      <td>SpaceX</td>\n",
       "      <td>$100B</td>\n",
       "      <td>2012-12-01</td>\n",
       "      <td>Other</td>\n",
       "      <td>Hawthorne</td>\n",
       "      <td>United States</td>\n",
       "      <td>North America</td>\n",
       "      <td>2002</td>\n",
       "      <td>$7B</td>\n",
       "      <td>Founders Fund, Draper Fisher Jurvetson, Rothen...</td>\n",
       "    </tr>\n",
       "    <tr>\n",
       "      <th>2</th>\n",
       "      <td>SHEIN</td>\n",
       "      <td>$100B</td>\n",
       "      <td>2018-07-03</td>\n",
       "      <td>E-commerce &amp; direct-to-consumer</td>\n",
       "      <td>Shenzhen</td>\n",
       "      <td>China</td>\n",
       "      <td>Asia</td>\n",
       "      <td>2008</td>\n",
       "      <td>$2B</td>\n",
       "      <td>Tiger Global Management, Sequoia Capital China...</td>\n",
       "    </tr>\n",
       "    <tr>\n",
       "      <th>3</th>\n",
       "      <td>Stripe</td>\n",
       "      <td>$95B</td>\n",
       "      <td>2014-01-23</td>\n",
       "      <td>Fintech</td>\n",
       "      <td>San Francisco</td>\n",
       "      <td>United States</td>\n",
       "      <td>North America</td>\n",
       "      <td>2010</td>\n",
       "      <td>$2B</td>\n",
       "      <td>Khosla Ventures, LowercaseCapital, capitalG</td>\n",
       "    </tr>\n",
       "    <tr>\n",
       "      <th>4</th>\n",
       "      <td>Klarna</td>\n",
       "      <td>$46B</td>\n",
       "      <td>2011-12-12</td>\n",
       "      <td>Fintech</td>\n",
       "      <td>Stockholm</td>\n",
       "      <td>Sweden</td>\n",
       "      <td>Europe</td>\n",
       "      <td>2005</td>\n",
       "      <td>$4B</td>\n",
       "      <td>Institutional Venture Partners, Sequoia Capita...</td>\n",
       "    </tr>\n",
       "  </tbody>\n",
       "</table>\n",
       "</div>"
      ],
      "text/plain": [
       "     Company Valuation Date Joined                         Industry  \\\n",
       "0  Bytedance     $180B  2017-04-07          Artificial intelligence   \n",
       "1     SpaceX     $100B  2012-12-01                            Other   \n",
       "2      SHEIN     $100B  2018-07-03  E-commerce & direct-to-consumer   \n",
       "3     Stripe      $95B  2014-01-23                          Fintech   \n",
       "4     Klarna      $46B  2011-12-12                          Fintech   \n",
       "\n",
       "            City        Country      Continent  Year Founded Funding  \\\n",
       "0        Beijing          China           Asia          2012     $8B   \n",
       "1      Hawthorne  United States  North America          2002     $7B   \n",
       "2       Shenzhen          China           Asia          2008     $2B   \n",
       "3  San Francisco  United States  North America          2010     $2B   \n",
       "4      Stockholm         Sweden         Europe          2005     $4B   \n",
       "\n",
       "                                    Select Investors  \n",
       "0  Sequoia Capital China, SIG Asia Investments, S...  \n",
       "1  Founders Fund, Draper Fisher Jurvetson, Rothen...  \n",
       "2  Tiger Global Management, Sequoia Capital China...  \n",
       "3        Khosla Ventures, LowercaseCapital, capitalG  \n",
       "4  Institutional Venture Partners, Sequoia Capita...  "
      ]
     },
     "execution_count": 70,
     "metadata": {},
     "output_type": "execute_result"
    }
   ],
   "source": [
    "# Overview of the first rows\n",
    "df.head()"
   ]
  },
  {
   "cell_type": "code",
   "execution_count": 71,
   "metadata": {},
   "outputs": [
    {
     "name": "stdout",
     "output_type": "stream",
     "text": [
      "<class 'pandas.core.frame.DataFrame'>\n",
      "RangeIndex: 1074 entries, 0 to 1073\n",
      "Data columns (total 10 columns):\n",
      " #   Column            Non-Null Count  Dtype \n",
      "---  ------            --------------  ----- \n",
      " 0   Company           1074 non-null   object\n",
      " 1   Valuation         1074 non-null   object\n",
      " 2   Date Joined       1074 non-null   object\n",
      " 3   Industry          1074 non-null   object\n",
      " 4   City              1058 non-null   object\n",
      " 5   Country           1074 non-null   object\n",
      " 6   Continent         1074 non-null   object\n",
      " 7   Year Founded      1074 non-null   int64 \n",
      " 8   Funding           1074 non-null   object\n",
      " 9   Select Investors  1073 non-null   object\n",
      "dtypes: int64(1), object(9)\n",
      "memory usage: 84.0+ KB\n"
     ]
    }
   ],
   "source": [
    "df.info()"
   ]
  },
  {
   "cell_type": "markdown",
   "metadata": {},
   "source": [
    "**Insights about the data**\n",
    "\n",
    "1. The Dataset has 10 columns and 1074 rows.\n",
    "2. All the columns are of type **object**, with exception of `Year Founded` that has an **int** type.\n",
    "3. We have some null values in the `City` column and a null value in the `Select Investors` column."
   ]
  },
  {
   "cell_type": "markdown",
   "metadata": {},
   "source": [
    "### Data Cleaning"
   ]
  },
  {
   "cell_type": "markdown",
   "metadata": {},
   "source": [
    "The goal of this step is to:\n",
    "* Treat missing data.\n",
    "* Check for data inconsistencies (duplicates, inconsistent values)."
   ]
  },
  {
   "cell_type": "markdown",
   "metadata": {},
   "source": [
    "#### Treating Missing Data"
   ]
  },
  {
   "cell_type": "code",
   "execution_count": 80,
   "metadata": {},
   "outputs": [
    {
     "data": {
      "text/plain": [
       "Company              0\n",
       "Valuation            0\n",
       "Date Joined          0\n",
       "Industry             0\n",
       "City                16\n",
       "Country              0\n",
       "Continent            0\n",
       "Year Founded         0\n",
       "Funding              0\n",
       "Select Investors     1\n",
       "dtype: int64"
      ]
     },
     "execution_count": 80,
     "metadata": {},
     "output_type": "execute_result"
    }
   ],
   "source": [
    "# Counting the number of missing values\n",
    "df.isna().sum()"
   ]
  },
  {
   "cell_type": "code",
   "execution_count": null,
   "metadata": {},
   "outputs": [],
   "source": [
    "# Filtering the rows where City is null\n",
    "df[df['City'].isnull()]"
   ]
  },
  {
   "cell_type": "code",
   "execution_count": null,
   "metadata": {},
   "outputs": [],
   "source": [
    "# Filtering the rows where Select Investors is null\n",
    "df[df['Select Investors'].isnull()]"
   ]
  },
  {
   "cell_type": "code",
   "execution_count": 84,
   "metadata": {},
   "outputs": [],
   "source": [
    "# Inputing the investors of LinkSure Network\n",
    "linksure_investors: str = \"Northern Light Venture Capital, Eight Roads Ventures\"\n",
    "\n",
    "df.loc[df['Company'] == \"LinkSure Network\", \"Select Investors\"] = linksure_investors"
   ]
  },
  {
   "cell_type": "markdown",
   "metadata": {},
   "source": [
    "#### Case-Sensitive Standardization"
   ]
  },
  {
   "cell_type": "code",
   "execution_count": 88,
   "metadata": {},
   "outputs": [],
   "source": [
    "# Case Standardization\n",
    "df['Industry'] = df['Industry'].str.title()\n",
    "df['City'] = df['City'].str.title()\n",
    "df['Country'] = df['Country'].str.title()\n",
    "df['Continent'] = df['Continent'].str.title()"
   ]
  },
  {
   "cell_type": "markdown",
   "metadata": {},
   "source": [
    "#### Checking for Duplicates"
   ]
  },
  {
   "cell_type": "code",
   "execution_count": 93,
   "metadata": {},
   "outputs": [
    {
     "name": "stdout",
     "output_type": "stream",
     "text": [
      "Number of Companies Duplicated: 1\n",
      "Number of Rows Duplicated: 0\n"
     ]
    }
   ],
   "source": [
    "# Checking for duplicated companies\n",
    "print(f\"Number of Companies Duplicated: {df['Company'].duplicated().sum()}\")\n",
    "\n",
    "# Checking for duplicated rows\n",
    "print(f\"Number of Rows Duplicated: {df.duplicated().sum()}\")"
   ]
  },
  {
   "cell_type": "code",
   "execution_count": 95,
   "metadata": {},
   "outputs": [
    {
     "data": {
      "text/html": [
       "<div>\n",
       "<style scoped>\n",
       "    .dataframe tbody tr th:only-of-type {\n",
       "        vertical-align: middle;\n",
       "    }\n",
       "\n",
       "    .dataframe tbody tr th {\n",
       "        vertical-align: top;\n",
       "    }\n",
       "\n",
       "    .dataframe thead th {\n",
       "        text-align: right;\n",
       "    }\n",
       "</style>\n",
       "<table border=\"1\" class=\"dataframe\">\n",
       "  <thead>\n",
       "    <tr style=\"text-align: right;\">\n",
       "      <th></th>\n",
       "      <th>Company</th>\n",
       "      <th>Valuation</th>\n",
       "      <th>Date Joined</th>\n",
       "      <th>Industry</th>\n",
       "      <th>City</th>\n",
       "      <th>Country</th>\n",
       "      <th>Continent</th>\n",
       "      <th>Year Founded</th>\n",
       "      <th>Funding</th>\n",
       "      <th>Select Investors</th>\n",
       "    </tr>\n",
       "  </thead>\n",
       "  <tbody>\n",
       "    <tr>\n",
       "      <th>40</th>\n",
       "      <td>Bolt</td>\n",
       "      <td>$11B</td>\n",
       "      <td>2018-05-29</td>\n",
       "      <td>Auto &amp; Transportation</td>\n",
       "      <td>Tallinn</td>\n",
       "      <td>Estonia</td>\n",
       "      <td>Europe</td>\n",
       "      <td>2013</td>\n",
       "      <td>$1B</td>\n",
       "      <td>Didi Chuxing, Diamler, TMT Investments</td>\n",
       "    </tr>\n",
       "    <tr>\n",
       "      <th>44</th>\n",
       "      <td>Bolt</td>\n",
       "      <td>$11B</td>\n",
       "      <td>2021-10-08</td>\n",
       "      <td>Fintech</td>\n",
       "      <td>San Francisco</td>\n",
       "      <td>United States</td>\n",
       "      <td>North America</td>\n",
       "      <td>2014</td>\n",
       "      <td>$1B</td>\n",
       "      <td>Activant Capital, Tribe Capital, General Atlantic</td>\n",
       "    </tr>\n",
       "  </tbody>\n",
       "</table>\n",
       "</div>"
      ],
      "text/plain": [
       "   Company Valuation Date Joined               Industry           City  \\\n",
       "40    Bolt      $11B  2018-05-29  Auto & Transportation        Tallinn   \n",
       "44    Bolt      $11B  2021-10-08                Fintech  San Francisco   \n",
       "\n",
       "          Country      Continent  Year Founded Funding  \\\n",
       "40        Estonia         Europe          2013     $1B   \n",
       "44  United States  North America          2014     $1B   \n",
       "\n",
       "                                     Select Investors  \n",
       "40             Didi Chuxing, Diamler, TMT Investments  \n",
       "44  Activant Capital, Tribe Capital, General Atlantic  "
      ]
     },
     "execution_count": 95,
     "metadata": {},
     "output_type": "execute_result"
    }
   ],
   "source": [
    "# Checking the duplicated companies\n",
    "\n",
    "df[df['Company'].duplicated(keep=False)]"
   ]
  },
  {
   "cell_type": "markdown",
   "metadata": {},
   "source": [
    "**Insights from this step**\n",
    "\n",
    "1. Singapore companies and some Hong Kong companies have null values in the `city` column. As this information will not affect our analysis, **we will keep these values empty**.\n",
    "2. The company who doesn't have the Investors information is LinkSure Network, from China. We gather the information that **Northern Light Venture Capital and Eight Roads Ventures** are investors, so we inserted this information in the dataset.\n",
    "3. The **Bolt** companies are two different companies, from different Countries. There are no duplicated records in the dataset."
   ]
  },
  {
   "cell_type": "markdown",
   "metadata": {},
   "source": [
    "### Exploratory Analysis"
   ]
  },
  {
   "cell_type": "markdown",
   "metadata": {},
   "source": [
    "At this step, we will do a simple exploratory analysis of the data to understand the dataset and its values, and to see if we need to make any transformations to the data."
   ]
  },
  {
   "cell_type": "markdown",
   "metadata": {},
   "source": [
    "#### Understanding the dataset"
   ]
  },
  {
   "cell_type": "code",
   "execution_count": 66,
   "metadata": {},
   "outputs": [
    {
     "name": "stdout",
     "output_type": "stream",
     "text": [
      "Number of Companies: 1073\n",
      "Number of Industries: 15\n",
      "Number of Countries: 46\n"
     ]
    }
   ],
   "source": [
    "print(f'Number of Companies: {df.Company.nunique()}')\n",
    "print(f'Number of Industries: {df.Industry.str.upper().nunique()}')\n",
    "print(f'Number of Countries: {df.Country.str.upper().nunique()}')"
   ]
  },
  {
   "cell_type": "code",
   "execution_count": 69,
   "metadata": {},
   "outputs": [
    {
     "data": {
      "text/plain": [
       "array(['Artificial intelligence', 'Other',\n",
       "       'E-commerce & direct-to-consumer', 'Fintech',\n",
       "       'Internet software & services',\n",
       "       'Supply chain, logistics, & delivery', 'Consumer & retail',\n",
       "       'Data management & analytics', 'Edtech', 'Health', 'Hardware',\n",
       "       'Auto & transportation', 'Travel', 'Cybersecurity',\n",
       "       'Mobile & telecommunications', 'Artificial Intelligence'],\n",
       "      dtype=object)"
      ]
     },
     "execution_count": 69,
     "metadata": {},
     "output_type": "execute_result"
    }
   ],
   "source": [
    "df.Industry.unique()"
   ]
  },
  {
   "cell_type": "code",
   "execution_count": 47,
   "metadata": {},
   "outputs": [
    {
     "name": "stdout",
     "output_type": "stream",
     "text": [
      "Number of Investors: 1258\n"
     ]
    }
   ],
   "source": [
    "df_investors = df['Select Investors'].str.split(', ')\n",
    "\n",
    "df_investors = df_investors.explode('Select Investors').str.strip()\n",
    "\n",
    "print(f'Number of Investors: {df_investors.nunique()}')"
   ]
  },
  {
   "cell_type": "markdown",
   "metadata": {},
   "source": [
    "**Data Insights**\n",
    "\n",
    "1. The Dataset has 10 columns and 1074 rows.\n",
    "2. All the columns are of type **object**, with exception of `Year Founded` that has an **int** type.\n",
    "3. We have some null values in the `City` column and a null value in the `Select Investors` column.\n",
    "\n",
    "**Business Insights**\n",
    "1. There are 1073 unicorn companies from 16 industries in 46 different countries.\n",
    "2. 1258 different investors have invested in at least one company."
   ]
  },
  {
   "cell_type": "markdown",
   "metadata": {},
   "source": [
    "### Data Preparation"
   ]
  }
 ],
 "metadata": {
  "kernelspec": {
   "display_name": "base",
   "language": "python",
   "name": "python3"
  },
  "language_info": {
   "codemirror_mode": {
    "name": "ipython",
    "version": 3
   },
   "file_extension": ".py",
   "mimetype": "text/x-python",
   "name": "python",
   "nbconvert_exporter": "python",
   "pygments_lexer": "ipython3",
   "version": "3.11.5"
  }
 },
 "nbformat": 4,
 "nbformat_minor": 2
}
